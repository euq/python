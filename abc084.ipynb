{
 "cells": [
  {
   "cell_type": "markdown",
   "metadata": {},
   "source": [
    "# B問題"
   ]
  },
  {
   "cell_type": "markdown",
   "metadata": {},
   "source": [
    "## 自分の提出\n",
    "正規表現で繰り返し回数を変数で指定する方法がわからなかったので不格好な感じになった。"
   ]
  },
  {
   "cell_type": "code",
   "execution_count": null,
   "metadata": {},
   "outputs": [],
   "source": [
    "a, b = map(int, input().split(' '))\n",
    "s = input()\n",
    "import re\n",
    "if re.match(r\"\\d\" * a + \"-\" + r\"\\d\" * b, s):\n",
    "    print('Yes')\n",
    "else:\n",
    "    print('No')\n"
   ]
  },
  {
   "cell_type": "markdown",
   "metadata": {},
   "source": [
    "## 書き方その1\n",
    "https://beta.atcoder.jp/contests/abc084/submissions/2142168\n",
    "\n",
    "こっちはああなるほどという感じ"
   ]
  },
  {
   "cell_type": "code",
   "execution_count": null,
   "metadata": {},
   "outputs": [],
   "source": [
    "import re\n",
    "A, B = (int(i) for i in input().split())\n",
    "if re.match(r\"\\d{%s}-\\d{%s}\" % (A, B), input()):\n",
    "    print(\"Yes\")\n",
    "else:\n",
    "    print(\"No\")\n"
   ]
  },
  {
   "cell_type": "markdown",
   "metadata": {},
   "source": [
    "## 書き方その2\n",
    "https://beta.atcoder.jp/contests/abc084/submissions/2521584\n",
    "\n",
    "こっちは実はあまりよくわからない。何が起こってるんだろう。"
   ]
  },
  {
   "cell_type": "code",
   "execution_count": null,
   "metadata": {},
   "outputs": [],
   "source": [
    "import re\n",
    "\n",
    "a, b = input().split()\n",
    "s = input()\n",
    "\n",
    "if re.match(r'\\d{' + a + '}-\\d{' + b + '}', s):\n",
    "    print('Yes')\n",
    "else:\n",
    "    print('No')\n"
   ]
  }
 ],
 "metadata": {
  "kernelspec": {
   "display_name": "Python 3",
   "language": "python",
   "name": "python3"
  },
  "language_info": {
   "codemirror_mode": {
    "name": "ipython",
    "version": 3
   },
   "file_extension": ".py",
   "mimetype": "text/x-python",
   "name": "python",
   "nbconvert_exporter": "python",
   "pygments_lexer": "ipython3",
   "version": "3.6.4"
  }
 },
 "nbformat": 4,
 "nbformat_minor": 2
}

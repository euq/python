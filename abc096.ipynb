{
 "cells": [
  {
   "cell_type": "markdown",
   "metadata": {},
   "source": [
    "## A問題"
   ]
  },
  {
   "cell_type": "code",
   "execution_count": 2,
   "metadata": {},
   "outputs": [
    {
     "name": "stdout",
     "output_type": "stream",
     "text": [
      "2 1\n",
      "1\n"
     ]
    }
   ],
   "source": [
    "a, b = map(int, input().split(' '))\n",
    "takahashi = 0\n",
    "\n",
    "for md in range(a):\n",
    "    takahashi += 1\n",
    "#    print(takahashi)\n",
    "\n",
    "if  b < a:\n",
    "    takahashi -= 1\n",
    "print(takahashi) "
   ]
  },
  {
   "cell_type": "markdown",
   "metadata": {},
   "source": [
    "## B問題"
   ]
  },
  {
   "cell_type": "code",
   "execution_count": null,
   "metadata": {},
   "outputs": [],
   "source": [
    "li= sorted(list(map(int, input().split(' '))),reverse=True)\n",
    "  \n",
    "k = int(input())\n",
    "\n",
    "mx = li[0] * (2**k)\n",
    "\n",
    "for i in range(1, len(li)):\n",
    "                mx += li[i]\n",
    "print(mx)\n"
   ]
  },
  {
   "cell_type": "markdown",
   "metadata": {},
   "source": [
    "## C問題\n"
   ]
  },
  {
   "cell_type": "markdown",
   "metadata": {},
   "source": [
    "#### 考え方（検討中）\n",
    "\n",
    "'#'があるとき、上下左右に#がなければ目標が達成できない\n",
    "→左と上だけ判定すればよいかと思って以下の方法をとったが。。。\n",
    "\n",
    "1. s[i,j]が'#'である('.'ならcontinue)\n",
    "2. s[i,j]の上下左右に#がある\n",
    "    \n",
    "    - i行目ごとにj列目の左を判定(#ならその行はTrueなければFalse)\n",
    "    - Falseの行があればその行の上下を確認(for文使用)\n",
    "\n",
    "右と下も判定しなければいけないのならかなり面倒臭そう。挫折。\n",
    "\n",
    "似たような処理が多いからメソッド定義すればいいのかもしれない？けどいい方法が思いつかない。"
   ]
  },
  {
   "cell_type": "code",
   "execution_count": 1,
   "metadata": {},
   "outputs": [
    {
     "name": "stdout",
     "output_type": "stream",
     "text": [
      "3 3\n",
      ".#.\n",
      "###\n",
      ".#.\n",
      "Yes\n"
     ]
    }
   ],
   "source": [
    "h, w = map(int, input().split(' ')) # H(行)とW（列）を入力\n",
    "s = []\n",
    "yorn = 'True'\n",
    "for i in range(h):\n",
    "    si = str(input()) #i行目を入力\n",
    "#    print(i, '行目: ', si)\n",
    "    s.append(si)\n",
    "#    print(s)\n",
    "    \n",
    "    for j in range(w):\n",
    "        #左側を比較する必要がないとき\n",
    "        if (j == 0) or (s[i][j] == '.'):\n",
    "#            print(j,': next')\n",
    "            continue\n",
    "        #左側を比較するとき\n",
    "        #左に#があれば次の文字へ\n",
    "        elif s[i][j-1] == '#':\n",
    "#            print(j,': next')\n",
    "            continue\n",
    "        #左に#がないとき\n",
    "        #上の行がなければ次の文字へ\n",
    "        elif i == 0:\n",
    "#            print(i,': next')\n",
    "            continue\n",
    "        #上の行と比較するとき\n",
    "        #上に#があれば次の文字へ\n",
    "        elif s[i-1][j] == '#':\n",
    "            continue\n",
    "#            print(j,': next')\n",
    "        #上に#がないならば終了\n",
    "        else:\n",
    "            yorn = 'False'\n",
    "#            print(j,': End')\n",
    "\n",
    "if yorn == 'True':             \n",
    "    print('Yes')\n",
    "else:\n",
    "    print('No')"
   ]
  },
  {
   "cell_type": "markdown",
   "metadata": {},
   "source": [
    "そもそも行の入力は文字列なんだからパターンマッチ使えばよくないですか？"
   ]
  },
  {
   "cell_type": "code",
   "execution_count": 1,
   "metadata": {},
   "outputs": [
    {
     "name": "stdout",
     "output_type": "stream",
     "text": [
      "3 3\n",
      ".#.\n",
      "['noboch', 'noboch', 'botch']\n",
      "check\n",
      "###\n",
      "['noboch', 'noboch', 'noboch']\n",
      "no check\n",
      ".#.\n",
      "['noboch', 'noboch', 'botch']\n",
      "check\n",
      "No\n"
     ]
    }
   ],
   "source": [
    "h, w = map(int, input().split(' ')) # H(行)とW（列）を入力\n",
    "s = []\n",
    "import re\n",
    "\n",
    "result = 'Yes'#結果の初期値を'Yes'としておく\n",
    "\n",
    "for i in range(h):\n",
    "    si = str(input()) #i行目を入力\n",
    "    s.append(si)\n",
    "    #行内に一人ぼっちの'#'があるかどうか\n",
    "    pattern = ['\\.#$','$#\\.','\\.#\\.']\n",
    "    match = ['botch' if re.search(pattern[x],si) else 'noboch' for x in range(len(pattern))]\n",
    "    print(match)#不要\n",
    "\n",
    "    #行内に一人ぼっちの'#'があるなら、\n",
    "    if 'botch' in match:\n",
    "        print('check')#不要\n",
    "        '''\n",
    "        行列sのi行目のj文字目について\n",
    "        i行目が最初の行で下に'#'がある→最初の行は判断保留にする\n",
    "        自身が'#'でかつ上の行に'#'がある\n",
    "        または自身が'#'でかつi行目が最後の行で上に'#'がある\n",
    "        ならば　ぼっちではない\n",
    "        上記以外だとぼっち\n",
    "        \n",
    "        ほんとか？\n",
    "        '''\n",
    "#        for j in range(w):\n",
    "#            print(s[i][j])\n",
    "#             if s[i][j] == '.':\n",
    "#                 continue\n",
    "                \n",
    "#             if i == 0:\n",
    "#                 continue\n",
    "#             elif (i == h-1) & (s[i - 1][j] == '#'):\n",
    "#                 continue\n",
    "#             elif (s[i - 1][j] == '#'):\n",
    "#                 continue\n",
    "#             else:\n",
    "        result = 'No'#ぼっちが一つでもあったら結果はNo(この後breakを書く)\n",
    "#                break\n",
    "    else:\n",
    "        #行内に一人ぼっちの'#'がないならcontinue\n",
    "        print('no check')#不要\n",
    "        continue\n",
    "\n",
    "print(result)"
   ]
  },
  {
   "cell_type": "code",
   "execution_count": null,
   "metadata": {},
   "outputs": [],
   "source": []
  }
 ],
 "metadata": {
  "kernelspec": {
   "display_name": "Python 3",
   "language": "python",
   "name": "python3"
  },
  "language_info": {
   "codemirror_mode": {
    "name": "ipython",
    "version": 3
   },
   "file_extension": ".py",
   "mimetype": "text/x-python",
   "name": "python",
   "nbconvert_exporter": "python",
   "pygments_lexer": "ipython3",
   "version": "3.6.4"
  }
 },
 "nbformat": 4,
 "nbformat_minor": 2
}

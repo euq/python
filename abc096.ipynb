{
 "cells": [
  {
   "cell_type": "markdown",
   "metadata": {},
   "source": [
    "## A問題"
   ]
  },
  {
   "cell_type": "code",
   "execution_count": 2,
   "metadata": {},
   "outputs": [
    {
     "name": "stdout",
     "output_type": "stream",
     "text": [
      "2 1\n",
      "1\n"
     ]
    }
   ],
   "source": [
    "a, b = map(int, input().split(' '))\n",
    "takahashi = 0\n",
    "\n",
    "for md in range(a):\n",
    "    takahashi += 1\n",
    "#    print(takahashi)\n",
    "\n",
    "if  b < a:\n",
    "    takahashi -= 1\n",
    "print(takahashi) "
   ]
  },
  {
   "cell_type": "markdown",
   "metadata": {},
   "source": [
    "## C問題\n"
   ]
  },
  {
   "cell_type": "markdown",
   "metadata": {},
   "source": [
    "#### 考え方（検討中）\n",
    "1. s[i,j]が'#'である('.'ならcontinue)\n",
    "2. s[i,j]の上下左右に#がある\n",
    "    \n",
    "    - i行目ごとにj列目の左を判定(#ならその行はTrueなければFalse)\n",
    "    - Falseの行があればその行の上下を確認(for文使用)\n",
    "    "
   ]
  },
  {
   "cell_type": "code",
   "execution_count": 2,
   "metadata": {},
   "outputs": [
    {
     "name": "stdout",
     "output_type": "stream",
     "text": [
      "3 3\n",
      "# . #\n",
      "0 行 ['#', '.', '#']\n",
      "False\n",
      "False\n",
      "False\n",
      "Tlue or False?:  False\n",
      "# # #\n",
      "1 行 ['#', '#', '#']\n",
      "False\n",
      "True\n",
      "True\n",
      "Tlue or False?:  True\n",
      ". # #\n",
      "2 行 ['.', '#', '#']\n",
      "False\n",
      "False\n",
      "True\n",
      "Tlue or False?:  True\n"
     ]
    }
   ],
   "source": [
    "h, w = map(int, input().split(' ')) # H(行)とW（列）を入力\n",
    "for i in range(h):\n",
    "    s = input().split(' ') #i行目を入力してリスト化\n",
    "    print(i, '行', s)\n",
    "    for j in range(w):# i行目のj個目の要素を考える(0 <= j < w )\n",
    "        if j == 0:\n",
    "            ijl = 'False' # 不要\n",
    "            print(ijl) # 不要\n",
    "            continue # 0個目には左が存在しないのでスキップ\n",
    "\n",
    "        if (s[j] == '#') & (s[j-1] == '#'): # s[i][j]が'#で'あり、かつ左が'#'ならばTrueとする\n",
    "            ijl = 'True'\n",
    "            print(ijl)# 不要\n",
    "        else:\n",
    "            ijl = 'False'\n",
    "            print(ijl) # 不要\n",
    "    print('Tlue or False?: ', ijl) #ifに書き換える\n"
   ]
  },
  {
   "cell_type": "code",
   "execution_count": null,
   "metadata": {},
   "outputs": [],
   "source": [
    "\n"
   ]
  }
 ],
 "metadata": {
  "kernelspec": {
   "display_name": "Python 3",
   "language": "python",
   "name": "python3"
  }
 },
 "nbformat": 4,
 "nbformat_minor": 2
}

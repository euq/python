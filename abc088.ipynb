{
 "cells": [
  {
   "cell_type": "markdown",
   "metadata": {},
   "source": [
    "## A問題"
   ]
  },
  {
   "cell_type": "code",
   "execution_count": null,
   "metadata": {},
   "outputs": [],
   "source": [
    "n = int(input())\n",
    "a = int(input())\n",
    "coins = 'No' if a < (n%500) else 'Yes'\n",
    "print(coins)"
   ]
  },
  {
   "cell_type": "markdown",
   "metadata": {},
   "source": [
    "## B問題\n"
   ]
  },
  {
   "cell_type": "code",
   "execution_count": null,
   "metadata": {},
   "outputs": [],
   "source": [
    "alice = 0\n",
    "bob = 0\n",
    "n = int(input())\n",
    "\n",
    "#sortedをあとからやるver.ちょっと遅い\n",
    "# a = list(map(int, input().split(' ')))\n",
    "# asrt = sorted(a, reverse = True)\n",
    "# for i in asrt[::2]: alice += i\n",
    "# for i in asrt[1::2]: bob += i\n",
    "\n",
    "a = sorted(list(map(int, input().split(' '))), reverse=True)\n",
    "for i in a[::2]: alice += i\n",
    "for i in a[1::2]: bob += i\n",
    "\n",
    "print(alice - bob)\n"
   ]
  },
  {
   "cell_type": "markdown",
   "metadata": {},
   "source": [
    "## C問題"
   ]
  },
  {
   "cell_type": "code",
   "execution_count": null,
   "metadata": {},
   "outputs": [],
   "source": [
    "c=[list(map(int, input().split(' '))) for _ in range(3)]\n",
    "\n",
    "if (c[0][0] + c[1][1] + c[2][2]) * 2 == c[0][1] + c[0][2] + c[1][0] + c[1][2] + c[2][0] + c[2][1]:\n",
    "    print('Yes')\n",
    "else:\n",
    "    print('No')"
   ]
  },
  {
   "cell_type": "markdown",
   "metadata": {},
   "source": [
    "上ので通るけど愚直すぎかなと思ってforで書いてみた。でもあまり変わらなさそう。\n",
    "\n",
    "もっとシンプルな書き方はないものか…。\n",
    "\n",
    "内包表記で書けるかと思ったけど+=使うとエラーが出る。使えないの？\n"
   ]
  },
  {
   "cell_type": "code",
   "execution_count": 6,
   "metadata": {},
   "outputs": [
    {
     "name": "stdout",
     "output_type": "stream",
     "text": [
      "1 0 1\n",
      "2 1 2\n",
      "1 0 1\n",
      "Yes\n"
     ]
    }
   ],
   "source": [
    "c=[list(map(int, input().split(' '))) for _ in range(3)]\n",
    "\n",
    "right = 0\n",
    "left = 0\n",
    "for i in range(3):\n",
    "    for j in range(3):\n",
    "        if i == j:\n",
    "            right += c[i][j]\n",
    "        else:\n",
    "            left += c[i][j]\n",
    "if right * 2 == left:\n",
    "    print('Yes')\n",
    "else:\n",
    "    print('No')\n"
   ]
  },
  {
   "cell_type": "code",
   "execution_count": null,
   "metadata": {},
   "outputs": [],
   "source": []
  }
 ],
 "metadata": {
  "kernelspec": {
   "display_name": "Python 3",
   "language": "python",
   "name": "python3"
  }
 },
 "nbformat": 4,
 "nbformat_minor": 2
}

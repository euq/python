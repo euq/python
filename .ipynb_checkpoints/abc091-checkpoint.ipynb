{
 "cells": [
  {
   "cell_type": "markdown",
   "metadata": {},
   "source": [
    "### A"
   ]
  },
  {
   "cell_type": "code",
   "execution_count": null,
   "metadata": {},
   "outputs": [],
   "source": [
    "a, b, c = map(int, input().split(' '))\n",
    "\n",
    "if a + b >= c:\n",
    "    print('Yes')\n",
    "else:\n",
    "    print('No')\n"
   ]
  },
  {
   "cell_type": "markdown",
   "metadata": {},
   "source": [
    "### B"
   ]
  },
  {
   "cell_type": "code",
   "execution_count": null,
   "metadata": {},
   "outputs": [],
   "source": [
    "n = int(input())\n",
    "s = [input() for i in range(n)]\n",
    "m = int(input())\n",
    "t = [input() for i in range(m)]\n",
    "\n",
    "import collections\n",
    "sc_tc = []\n",
    "for i in s:\n",
    "    if s.count(i) - t.count(i)> 0:\n",
    "        sctc = s.count(i) - t.count(i)\n",
    "    else:\n",
    "        sctc = 0\n",
    "    sc_tc.append(sctc)\n",
    "\n",
    "print(max(sc_tc))\n"
   ]
  }
 ],
 "metadata": {
  "kernelspec": {
   "display_name": "Python 3",
   "language": "python",
   "name": "python3"
  },
  "language_info": {
   "codemirror_mode": {
    "name": "ipython",
    "version": 3
   },
   "file_extension": ".py",
   "mimetype": "text/x-python",
   "name": "python",
   "nbconvert_exporter": "python",
   "pygments_lexer": "ipython3",
   "version": "3.6.4"
  }
 },
 "nbformat": 4,
 "nbformat_minor": 2
}

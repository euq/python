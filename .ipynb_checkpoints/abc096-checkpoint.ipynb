{
 "cells": [
  {
   "cell_type": "markdown",
   "metadata": {},
   "source": [
    "## A問題"
   ]
  },
  {
   "cell_type": "code",
   "execution_count": 2,
   "metadata": {},
   "outputs": [
    {
     "name": "stdout",
     "output_type": "stream",
     "text": [
      "2 1\n",
      "1\n"
     ]
    }
   ],
   "source": [
    "a, b = map(int, input().split(' '))\n",
    "takahashi = 0\n",
    "\n",
    "for md in range(a):\n",
    "    takahashi += 1\n",
    "#    print(takahashi)\n",
    "\n",
    "if  b < a:\n",
    "    takahashi -= 1\n",
    "print(takahashi) "
   ]
  },
  {
   "cell_type": "markdown",
   "metadata": {},
   "source": [
    "## C問題\n"
   ]
  },
  {
   "cell_type": "markdown",
   "metadata": {},
   "source": [
    "#### 考え方（検討中）\n",
    "\n",
    "'#'があるとき、上下左右に#がなければ目標が達成できない\n",
    "→左と上だけ判定すればよいかと思って以下の方法をとったが。。。\n",
    "\n",
    "1. s[i,j]が'#'である('.'ならcontinue)\n",
    "2. s[i,j]の上下左右に#がある\n",
    "    \n",
    "    - i行目ごとにj列目の左を判定(#ならその行はTrueなければFalse)\n",
    "    - Falseの行があればその行の上下を確認(for文使用)\n",
    "\n",
    "右と下も判定しなければいけないのならかなり面倒臭そう。挫折。\n",
    "\n",
    "似たような処理が多いからメソッド定義すればいいのかもしれない？けどいい方法が思いつかない。"
   ]
  },
  {
   "cell_type": "code",
   "execution_count": 1,
   "metadata": {},
   "outputs": [
    {
     "name": "stdout",
     "output_type": "stream",
     "text": [
      "3 3\n",
      ".#.\n",
      "###\n",
      ".#.\n",
      "Yes\n"
     ]
    }
   ],
   "source": [
    "h, w = map(int, input().split(' ')) # H(行)とW（列）を入力\n",
    "s = []\n",
    "yorn = 'True'\n",
    "for i in range(h):\n",
    "    si = str(input()) #i行目を入力\n",
    "#    print(i, '行目: ', si)\n",
    "    s.append(si)\n",
    "#    print(s)\n",
    "    \n",
    "    for j in range(w):\n",
    "        #左側を比較する必要がないとき\n",
    "        if (j == 0) or (s[i][j] == '.'):\n",
    "#            print(j,': next')\n",
    "            continue\n",
    "        #左側を比較するとき\n",
    "        #左に#があれば次の文字へ\n",
    "        elif s[i][j-1] == '#':\n",
    "#            print(j,': next')\n",
    "            continue\n",
    "        #左に#がないとき\n",
    "        #上の行がなければ次の文字へ\n",
    "        elif i == 0:\n",
    "#            print(i,': next')\n",
    "            continue\n",
    "        #上の行と比較するとき\n",
    "        #上に#があれば次の文字へ\n",
    "        elif s[i-1][j] == '#':\n",
    "            continue\n",
    "#            print(j,': next')\n",
    "        #上に#がないならば終了\n",
    "        else:\n",
    "            yorn = 'False'\n",
    "#            print(j,': End')\n",
    "\n",
    "if yorn == 'True':             \n",
    "    print('Yes')\n",
    "else:\n",
    "    print('No')"
   ]
  },
  {
   "cell_type": "code",
   "execution_count": null,
   "metadata": {},
   "outputs": [],
   "source": []
  }
 ],
 "metadata": {
  "kernelspec": {
   "display_name": "Python 3",
   "language": "python",
   "name": "python3"
  },
  "language_info": {
   "codemirror_mode": {
    "name": "ipython",
    "version": 3
   },
   "file_extension": ".py",
   "mimetype": "text/x-python",
   "name": "python",
   "nbconvert_exporter": "python",
   "pygments_lexer": "ipython3",
   "version": "3.6.4"
  }
 },
 "nbformat": 4,
 "nbformat_minor": 2
}

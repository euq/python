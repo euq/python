{
 "cells": [
  {
   "cell_type": "markdown",
   "metadata": {},
   "source": [
    "# ABC092\n",
    "## A問題"
   ]
  },
  {
   "cell_type": "code",
   "execution_count": null,
   "metadata": {},
   "outputs": [],
   "source": [
    "import sys\n",
    "a,b,c,d=[int(input()) for i in range(4)]\n",
    "\n",
    "cost = min([a,b])+ min([c,d])\n",
    "print(cost)"
   ]
  },
  {
   "cell_type": "markdown",
   "metadata": {},
   "source": [
    "## B問題"
   ]
  },
  {
   "cell_type": "code",
   "execution_count": null,
   "metadata": {},
   "outputs": [],
   "source": [
    "n = int(input())\n",
    "d, x = map(int, input().split(' '))\n",
    "a = [int(input()) for i in range(n)]\n",
    "count = int()\n",
    "\n",
    "for i in range(n):\n",
    "# print('#',i+1, '人目')\n",
    "  for dy in range(100):\n",
    "    day =  dy * a[i] + 1\n",
    "    if day > d:\n",
    "        break\n",
    "    else:\n",
    "#     print('#',day, '日目')\n",
    "      count+=1\n",
    "# print('#count', count)\n",
    "\n",
    "print(count + x)\n"
   ]
  }
 ],
 "metadata": {
  "kernelspec": {
   "display_name": "Python 3",
   "language": "python",
   "name": "python3"
  },
  "language_info": {
   "codemirror_mode": {
    "name": "ipython",
    "version": 3
   },
   "file_extension": ".py",
   "mimetype": "text/x-python",
   "name": "python",
   "nbconvert_exporter": "python",
   "pygments_lexer": "ipython3",
   "version": "3.6.4"
  }
 },
 "nbformat": 4,
 "nbformat_minor": 2
}

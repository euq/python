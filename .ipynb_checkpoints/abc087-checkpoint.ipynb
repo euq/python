{
 "cells": [
  {
   "cell_type": "markdown",
   "metadata": {},
   "source": [
    "### A"
   ]
  },
  {
   "cell_type": "code",
   "execution_count": null,
   "metadata": {},
   "outputs": [],
   "source": [
    "x = int(input())\n",
    "a = int(input())\n",
    "b = int(input())\n",
    "\n",
    "nokori = x - a\n",
    "while nokori >= b:\n",
    "    nokori -= b\n",
    "\n",
    "print(nokori)\n"
   ]
  },
  {
   "cell_type": "markdown",
   "metadata": {},
   "source": [
    "### B"
   ]
  },
  {
   "cell_type": "code",
   "execution_count": null,
   "metadata": {},
   "outputs": [],
   "source": [
    "a = int(input())\n",
    "b = int(input())\n",
    "c = int(input())\n",
    "x = int(input())\n",
    "variation = 0\n",
    "\n",
    "for na in range(a+1):\n",
    "     for nb in range(b+1):\n",
    "        for nc in range(c+1):\n",
    "            if x == 500 * na + 100 * nb + 50 * nc: \n",
    "                variation += 1\n",
    "\n",
    "print(variation)\n"
   ]
  }
 ],
 "metadata": {
  "kernelspec": {
   "display_name": "Python 3",
   "language": "python",
   "name": "python3"
  },
  "language_info": {
   "codemirror_mode": {
    "name": "ipython",
    "version": 3
   },
   "file_extension": ".py",
   "mimetype": "text/x-python",
   "name": "python",
   "nbconvert_exporter": "python",
   "pygments_lexer": "ipython3",
   "version": "3.6.4"
  }
 },
 "nbformat": 4,
 "nbformat_minor": 2
}

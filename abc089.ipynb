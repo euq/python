{
 "cells": [
  {
   "cell_type": "markdown",
   "metadata": {},
   "source": [
    "### A問題"
   ]
  },
  {
   "cell_type": "code",
   "execution_count": 4,
   "metadata": {
    "scrolled": true
   },
   "outputs": [
    {
     "name": "stdout",
     "output_type": "stream",
     "text": [
      "8\n",
      "2\n"
     ]
    }
   ],
   "source": [
    "n = int(input())\n",
    "print(int(n/3))"
   ]
  },
  {
   "cell_type": "markdown",
   "metadata": {},
   "source": [
    "### B問題"
   ]
  },
  {
   "cell_type": "markdown",
   "metadata": {},
   "source": [
    "N個を順に取り出していったとき、Siが黄色(Y)ならばFour\n",
    "\n",
    "すべて取り出してもYがなければTree\n",
    "\n",
    "    →forで回してもいいけど、要素抽出のほうが単純？\n",
    "    →というかリスト内包表記：[`式` for `任意の変数名` in `イテラブルオブジェクト` if `条件式`]\\\n",
    "    →elseを使うときはif~else はforの前\n",
    "    →今回の場合はfor不要"
   ]
  },
  {
   "cell_type": "code",
   "execution_count": 12,
   "metadata": {},
   "outputs": [
    {
     "name": "stdout",
     "output_type": "stream",
     "text": [
      "3\n",
      "W P Y\n",
      "Four\n"
     ]
    }
   ],
   "source": [
    "n = int(input())\n",
    "s = list(map(str, input().split(' ')))\n",
    "#print(s)\n",
    "\n",
    "si = [print('Four')if 'Y' in s else print('Three') ]"
   ]
  },
  {
   "cell_type": "code",
   "execution_count": null,
   "metadata": {},
   "outputs": [],
   "source": []
  },
  {
   "cell_type": "code",
   "execution_count": null,
   "metadata": {},
   "outputs": [],
   "source": []
  }
 ],
 "metadata": {
  "kernelspec": {
   "display_name": "Python 3",
   "language": "python",
   "name": "python3"
  },
  "language_info": {
   "codemirror_mode": {
    "name": "ipython",
    "version": 3
   },
   "file_extension": ".py",
   "mimetype": "text/x-python",
   "name": "python",
   "nbconvert_exporter": "python",
   "pygments_lexer": "ipython3",
   "version": "3.6.4"
  }
 },
 "nbformat": 4,
 "nbformat_minor": 2
}

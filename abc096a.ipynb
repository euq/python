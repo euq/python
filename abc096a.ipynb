{
 "cells": [
  {
   "cell_type": "code",
   "execution_count": 92,
   "metadata": {},
   "outputs": [
    {
     "name": "stdout",
     "output_type": "stream",
     "text": [
      "11 30\n",
      "11\n"
     ]
    }
   ],
   "source": [
    "a, b = map(int, input().split(' '))\n",
    "takahashi = 0\n",
    "\n",
    "for md in range(a):\n",
    "    takahashi += 1\n",
    "#    print(takahashi)\n",
    "\n",
    "if  b < a:\n",
    "    takahashi -= 1\n",
    "print(takahashi) "
   ]
  }
 ],
 "metadata": {
  "kernelspec": {
   "display_name": "Python 3",
   "language": "python",
   "name": "python3"
  },
  "language_info": {
   "codemirror_mode": {
    "name": "ipython",
    "version": 3
   },
   "file_extension": ".py",
   "mimetype": "text/x-python",
   "name": "python",
   "nbconvert_exporter": "python",
   "pygments_lexer": "ipython3",
   "version": "3.6.4"
  }
 },
 "nbformat": 4,
 "nbformat_minor": 2
}
